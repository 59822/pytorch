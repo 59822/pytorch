{
 "cells": [
  {
   "cell_type": "code",
   "execution_count": 35,
   "metadata": {},
   "outputs": [],
   "source": [
    "import torch\n",
    "import torch.nn as nn\n",
    "import numpy as np\n",
    "from sklearn import datasets\n",
    "import matplotlib.pyplot as plt\n",
    "import pandas as pd"
   ]
  },
  {
   "cell_type": "markdown",
   "metadata": {},
   "source": [
    "# Creation Linear regression with pytorch\n",
    "Using **datasets.make_regression** as dataset"
   ]
  },
  {
   "cell_type": "code",
   "execution_count": 36,
   "metadata": {},
   "outputs": [
    {
     "name": "stdout",
     "output_type": "stream",
     "text": [
      "epoch: 10, loss: 4391.4785\n",
      "epoch: 20, loss: 3278.4529\n",
      "epoch: 30, loss: 2472.4248\n",
      "epoch: 40, loss: 1888.1310\n",
      "epoch: 50, loss: 1464.1804\n",
      "epoch: 60, loss: 1156.3081\n",
      "epoch: 70, loss: 932.5542\n",
      "epoch: 80, loss: 769.8176\n",
      "epoch: 90, loss: 651.3799\n",
      "epoch: 100, loss: 565.1294\n"
     ]
    },
    {
     "data": {
      "image/png": "[encoded data removed]",
      "text/plain": [
       "<Figure size 640x480 with 1 Axes>"
      ]
     },
     "metadata": {},
     "output_type": "display_data"
    }
   ],
   "source": [
    "# Preparing data\n",
    "X_numpy,y_numpy = datasets.make_regression(n_samples=100, n_features=1,noise=20, random_state=1) #Noise: Generan datos realistas\n",
    "#random_state \n",
    "df = pd.DataFrame(data = X_numpy, columns=['ok'])\n",
    "df['vale'] = y_numpy\n",
    "#print(df.head(100))\n",
    "\n",
    "'''print(help(torch.from_numpy))'''\n",
    "#TODO: Pasar de numpy a torch\n",
    "X = torch.from_numpy(X_numpy.astype(np.float32))\n",
    "y = torch.from_numpy(y_numpy.astype(np.float32))\n",
    "y = y.view(y.shape[0], 1)\n",
    "# TODO: RECORDAR QUE ES NECESARIO AJUSTAR PARA  QUE SE DEN BUENOS LOSS FUNCTION\n",
    "\n",
    "n_samples, n_features = X.shape\n",
    "#print(help(nn.Linear))\n",
    "\n",
    "\n",
    "# 1. Modelo\n",
    "#todo: Input, ouout, model, size, forward pass\n",
    "inputs_size = n_features\n",
    "output_size = 1\n",
    "model = nn.Linear(inputs_size, output_size)\n",
    "\n",
    "\n",
    "#Loss and optimizer\n",
    "learning_rate = 0.01\n",
    "loss = nn.MSELoss() # TODO: Error cuadratico medio\n",
    "optim = torch.optim.SGD(model.parameters(), lr = learning_rate)\n",
    "#linear = nn.Linear\n",
    "\n",
    "## Training loop\n",
    "n_iters = 100\n",
    "for epoch in range(n_iters):\n",
    "    #Forward pass\n",
    "    y_predict = model(X)\n",
    "    \n",
    "    #Loss\n",
    "    l = loss(y_predict, y)\n",
    "    #Backward pass\n",
    "    l.backward()\n",
    "    #Update weights\n",
    "    optim.step()\n",
    "    #Zero gradients afeter updating\n",
    "    optim.zero_grad()\n",
    "    \n",
    "    \n",
    "    if (epoch+1)% 10 ==0:\n",
    "       print(f'epoch: {epoch+1}, loss: {l.item():.4f}')\n",
    "\n",
    "#Plot:\n",
    "predicted = model(X).detach().numpy() # Detach para el grafo que se hace Tensor\n",
    "plt.plot(X_numpy, y_numpy, 'bo', label='Datos originales')\n",
    "plt.plot(X_numpy, predicted, 'r-', label='Predicciones del modelo')\n",
    "plt.show()"
   ]
  },
  {
   "cell_type": "markdown",
   "metadata": {},
   "source": [
    "# Logistical regression"
   ]
  },
  {
   "cell_type": "code",
   "execution_count": 37,
   "metadata": {},
   "outputs": [],
   "source": [
    "import torch\n",
    "import torch.nn as nn\n",
    "import numpy as np\n",
    "from sklearn import datasets\n",
    "from sklearn.preprocessing import StandardScaler\n",
    "from sklearn.model_selection import train_test_split\n"
   ]
  },
  {
   "cell_type": "code",
   "execution_count": 52,
   "metadata": {},
   "outputs": [
    {
     "name": "stdout",
     "output_type": "stream",
     "text": [
      "30\n",
      "Epoch : 10, loss 0.5021\n",
      "Epoch : 20, loss 0.4260\n",
      "Epoch : 30, loss 0.3746\n",
      "Epoch : 40, loss 0.3374\n",
      "Epoch : 50, loss 0.3093\n",
      "Epoch : 60, loss 0.2871\n",
      "Epoch : 70, loss 0.2692\n",
      "Epoch : 80, loss 0.2543\n",
      "Epoch : 90, loss 0.2418\n",
      "Epoch : 100, loss 0.2310\n"
     ]
    }
   ],
   "source": [
    "# 0: Preparing data\n",
    "bc = datasets.load_breast_cancer()\n",
    "X, y = bc.data, bc.target\n",
    "dto = pd.DataFrame(data = X, columns= bc.feature_names)\n",
    "\n",
    "n_samples, n_features = X.shape\n",
    "print(n_features)\n",
    "\n",
    "## b. Crear train daata, y luego escalarla\n",
    "\n",
    "X_train, X_test, y_train, y_test = train_test_split(X,y, test_size=0.2, random_state=1234)\n",
    "\n",
    "# ESCALAR\n",
    "sc = StandardScaler()\n",
    "X_train =sc.fit_transform(X_train) #TODO: Ajusta el escalador a los datos y transforma los datos\n",
    "X_test = sc.transform(X_test) #Transforma a los datos ajustados del entrenamiento\n",
    "\n",
    "# PASAR LOS DATOS A TORCH\n",
    "\n",
    "X_train = torch.from_numpy(X_train.astype(np.float32))\n",
    "X_test = torch.from_numpy(X_test.astype(np.float32))\n",
    "y_train = torch.from_numpy(y_train.astype(np.float32))\n",
    "y_test = torch.from_numpy(y_test.astype(np.float32))\n",
    "\n",
    "y_train = y_train.view(y_train.shape[0], 1)\n",
    "y_test = y_test.view(y_test.shape[0], 1)\n",
    "\n",
    "\n",
    "#todo: 1. Modelo\n",
    "# Como no existe toca hacer la clase vale:\n",
    "\n",
    "class LogisticRegression(nn.Module):\n",
    "    def __init__(self, n_input_features):\n",
    "        super().__init__()\n",
    "        self.linear = nn.Linear(n_input_features, 1) # Numero de caracteristicas de entrada, 1 nodo de salida\n",
    "        \n",
    "    def forward(self, x):\n",
    "        y_predicted = torch.sigmoid(self.linear(x))\n",
    "        return y_predicted\n",
    "    \n",
    "model = LogisticRegression(n_features)\n",
    "\n",
    "\n",
    "# TODO. 2. Loss and optimization\n",
    "learning_rate = 0.01\n",
    "loss = nn.BCELoss()\n",
    "optim = torch.optim.SGD(model.parameters(), lr = learning_rate)\n",
    "\n",
    "\n",
    "# TODO: 3. Training loop\n",
    "n_iters = 100\n",
    "\n",
    "for epoch in range(n_iters):\n",
    "    # forward pass and loss\n",
    "    y_predicted = model(X_train)\n",
    "    l = loss(y_predicted, y_train)\n",
    "    # backward pass\n",
    "    l.backward()\n",
    "    # update\n",
    "    optim.step()\n",
    "    # Zero gradients\n",
    "    optim.zero_grad()\n",
    "    \n",
    "    #Epoch\n",
    "    if (epoch+1)%10 ==0:\n",
    "        print(f\"Epoch : {epoch+1}, loss {l.item():.4f}\")\n",
    "    \n",
    "    \n",
    "## TODO 4: Hacer una prueba de accurancy"
   ]
  },
  {
   "cell_type": "markdown",
   "metadata": {},
   "source": [
    "# Modelos BCE y MSE\n",
    "## MSE **Mean Squared Error**\n",
    "Funciona para funciones de _regresión_ donde penaliza los errores más grandes *nn.MSEloss()*\n",
    "\n",
    "## BCE **Binary Cross-Entropy**\n",
    "Funciona para _clasificaciones binarias_, penalizando predicciones incorrectas con alta confianza *nn.BCELoss()*"
   ]
  },
  {
   "cell_type": "markdown",
   "metadata": {},
   "source": [
    "# ACCURANCY:\n"
   ]
  },
  {
   "cell_type": "code",
   "execution_count": 53,
   "metadata": {},
   "outputs": [
    {
     "name": "stdout",
     "output_type": "stream",
     "text": [
      "0.9210526315789473\n"
     ]
    }
   ],
   "source": [
    "from sklearn.metrics import accuracy_score\n",
    "\n",
    "with torch.no_grad():\n",
    "    y_predict = model(X_test)\n",
    "    y_predict_round = y_predict.round()\n",
    "\n",
    "# Convertirlos de tensores a numpy:\n",
    "y_predict_round = y_predict_round.numpy()\n",
    "y_test_np = y_test.numpy()\n",
    "\n",
    "accurancy = accuracy_score(y_test_np, y_predict_round)\n",
    "print(accurancy)"
   ]
  }
 ],
 "metadata": {
  "kernelspec": {
   "display_name": "base",
   "language": "python",
   "name": "python3"
  },
  "language_info": {
   "codemirror_mode": {
    "name": "ipython",
    "version": 3
   },
   "file_extension": ".py",
   "mimetype": "text/x-python",
   "name": "python",
   "nbconvert_exporter": "python",
   "pygments_lexer": "ipython3",
   "version": "3.12.4"
  }
 },
 "nbformat": 4,
 "nbformat_minor": 2
}
