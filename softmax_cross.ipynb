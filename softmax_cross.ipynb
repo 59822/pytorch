{
 "cells": [
  {
   "cell_type": "code",
   "execution_count": null,
   "metadata": {},
   "outputs": [],
   "source": []
  },
  {
   "cell_type": "markdown",
   "metadata": {},
   "source": [
    "# Cross-Entropy and Softmax\n",
    "### Softmax\n",
    "Convierte el vector de entrada en un vector de probabilidades, donde la suma de estos genera 1\n",
    "\n",
    "#### Fórmula de Softmax\n",
    "La fórmula para la función `softmax` es:\n",
    "\n",
    "\\[\n",
    "\\sigma(\\mathbf{z})_i = \\frac{e^{z_i}}{\\sum_{j=1}^{N} e^{z_j}}\n",
    "\\]\n",
    "\n",
    "Donde:\n",
    "- \\( z_i \\) es el \\( i \\)-ésimo valor del vector de entrada.\n",
    "- \\( K \\) es el número total de clases.\n",
    "- \\( e \\) es la base del logaritmo natural.\n",
    "\n",
    "#### Propiedades de Softmax\n",
    "1. **Probabilidades**: Convierte los valores de entrada en probabilidades, donde cada valor está en el rango [0, 1].\n",
    "2. **Suma a 1**: La suma de todas las probabilidades es igual a 1.\n",
    "3. **Diferenciable**: Es una función diferenciable, lo que la hace adecuada para el entrenamiento de modelos mediante retropropagación.\n",
    "\n",
    "#### Uso de Softmax en PyTorch\n",
    "\n",
    "En PyTorch, la función `softmax` se puede aplicar utilizando `torch.nn.functional.softmax` o `torch.nn.Softmax`. Aquí tienes un ejemplo de cómo usar `softmax` en un modelo de clasificación multiclase:\n"
   ]
  },
  {
   "cell_type": "code",
   "execution_count": 4,
   "metadata": {},
   "outputs": [
    {
     "name": "stdout",
     "output_type": "stream",
     "text": [
      "Softmax :  [0.29779987 0.38691941 0.31528072]\n",
      "Softmax :  tensor([0.2333, 0.3764, 0.3903])\n"
     ]
    }
   ],
   "source": [
    "import torch\n",
    "import torch.nn as nn\n",
    "import numpy as np\n",
    "\n",
    "#Visualmente en numpy\n",
    "\n",
    "def softmax(x):\n",
    "    return np.exp(x)/np.sum(np.exp(x), axis = 0) #Suma en columnas\n",
    "\n",
    "x = np.random.rand(3)\n",
    "outputs = softmax(x)\n",
    "print('Softmax : ',outputs)\n",
    "\n",
    "y = torch.rand(3)\n",
    "outputs_y = torch.softmax(y, dim = 0)\n",
    "\n",
    "print('Softmax : ',outputs_y)\n"
   ]
  },
  {
   "cell_type": "markdown",
   "metadata": {},
   "source": [
    "# CROSS ENTROPY LOSS:\n",
    "La **entropía cruzada** es una función de pérdida ampliamente utilizada en problemas de clasificación. Se emplea para medir la disimilaridad entre la distribución de probabilidades real (ground truth) y la distribución de probabilidades predicha por un modelo.\n",
    "\n",
    "### ¿Para qué se usa?\n",
    "La entropía cruzada se utiliza principalmente para:\n",
    "- **Evaluar modelos de clasificación**: Calcula qué tan bien las probabilidades predichas por el modelo se alinean con las etiquetas verdaderas.\n",
    "- **Entrenar modelos de clasificación binaria y multiclase**: Sirve como función de pérdida que el optimizador minimiza para mejorar la precisión del modelo.\n",
    "\n",
    "### ¿Por qué es importante?\n",
    "La entropía cruzada penaliza con más severidad las predicciones incorrectas de alta confianza. Esto ayuda a que el modelo aprenda a ser más preciso en la predicción de clases, maximizando la probabilidad de la clase verdadera.\n",
    "\n",
    "Es especialmente útil en modelos como la **regresión logística** y en **redes neuronales** donde se necesita una métrica que mida la calidad de las predicciones probabilísticas.\n",
    "\n",
    "\n",
    "### NO SE DEBE APLICAR SOFTMAX AL FINAL"
   ]
  },
  {
   "cell_type": "code",
   "execution_count": null,
   "metadata": {},
   "outputs": [],
   "source": [
    "loss = nn.CrossEntropyLoss()"
   ]
  }
 ],
 "metadata": {
  "kernelspec": {
   "display_name": "base",
   "language": "python",
   "name": "python3"
  },
  "language_info": {
   "codemirror_mode": {
    "name": "ipython",
    "version": 3
   },
   "file_extension": ".py",
   "mimetype": "text/x-python",
   "name": "python",
   "nbconvert_exporter": "python",
   "pygments_lexer": "ipython3",
   "version": "3.12.4"
  }
 },
 "nbformat": 4,
 "nbformat_minor": 2
}
